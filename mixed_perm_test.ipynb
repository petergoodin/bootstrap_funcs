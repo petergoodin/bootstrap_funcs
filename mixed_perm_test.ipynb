{
 "cells": [
  {
   "cell_type": "code",
   "execution_count": 182,
   "metadata": {},
   "outputs": [
    {
     "name": "stdout",
     "output_type": "stream",
     "text": [
      "The rpy2.ipython extension is already loaded. To reload it, use:\n",
      "  %reload_ext rpy2.ipython\n"
     ]
    }
   ],
   "source": [
    "from __future__ import division\n",
    "\n",
    "import pandas as pd\n",
    "import numpy as np\n",
    "import seaborn as sns\n",
    "import scipy.stats\n",
    "import matplotlib.pylab as plt\n",
    "import statsmodels.api as sm\n",
    "import statsmodels.formula.api as smf\n",
    "import scipy.stats as stats\n",
    "import statsmodels.sandbox.stats as smsb\n",
    "\n",
    "from rpy2.robjects import r\n",
    "%load_ext rpy2.ipython"
   ]
  },
  {
   "cell_type": "markdown",
   "metadata": {},
   "source": [
    "## Original R material from from David Howell's site: https://www.uvm.edu/~dhowell/StatPages/Permutation%20Anova/PermTestsAnova.html\n",
    "\n",
    "## (and Manly, B. F. J. (2007) Randomization, Bootstrap, and Monte Carlo Methods in Biology (3rd ed.), London: Chapman & Hall. - p 144 before that...)"
   ]
  },
  {
   "cell_type": "code",
   "execution_count": 160,
   "metadata": {},
   "outputs": [
    {
     "name": "stdout",
     "output_type": "stream",
     "text": [
      "[  13  242  105  182   21    7    8   59   20   24  312   68  515  488   88\n",
      "  460 1223  990   18   44   21  140   40   27]\n",
      "[1 1 1 2 2 2 1 1 1 2 2 2 1 1 1 2 2 2 1 1 1 2 2 2]\n",
      "[1 1 1 1 1 1 2 2 2 2 2 2 3 3 3 3 3 3 4 4 4 4 4 4]\n",
      "                   sum_sq    df          F    PR(>F)\n",
      "size         1.461720e+05   1.0   4.469905  0.050548\n",
      "months       1.379495e+06   3.0  14.061540  0.000095\n",
      "size:months  2.940095e+05   3.0   2.996912  0.061712\n",
      "Residual     5.232220e+05  16.0        NaN       NaN\n"
     ]
    }
   ],
   "source": [
    "d_dict = {}\n",
    "d_dict['ants'] = np.array([13, 242, 105, 182, 21, 7, 8, 59, 20, 24, 312, 68, 515, 488, 88, 460, 1223, 990, 18, 44, 21, 140, 40, 27])\n",
    "d_dict['size'] = np.tile(np.array([1,1,1,2,2,2]), reps = 4)\n",
    "d_dict['months'] = np.repeat(np.array([1,2,3,4]), 6)\n",
    "\n",
    "print(d_dict['ants'])\n",
    "print(d_dict['size'])\n",
    "print(d_dict['months'])\n",
    "\n",
    "df = pd.DataFrame(d_dict)\n",
    "\n",
    "df['size'] = pd.Categorical(df['size'])\n",
    "df['months'] = pd.Categorical(df['months'])\n",
    "                                \n",
    "mod = smf.ols('ants ~ size + months + size:months', data = df).fit()\n",
    "an_mod = sm.stats.anova_lm(mod, typ = 2)\n",
    "print(an_mod)"
   ]
  },
  {
   "cell_type": "code",
   "execution_count": 161,
   "metadata": {},
   "outputs": [
    {
     "data": {
      "text/plain": [
       " [1]   13  242  105  182   21    7    8   59   20   24  312   68  515  488   88\n",
       "[16]  460 1223  990   18   44   21  140   40   27\n"
      ]
     },
     "metadata": {},
     "output_type": "display_data"
    },
    {
     "data": {
      "text/plain": [
       " [1] 1 1 1 2 2 2 1 1 1 2 2 2 1 1 1 2 2 2 1 1 1 2 2 2\n",
       "Levels: 1 2\n"
      ]
     },
     "metadata": {},
     "output_type": "display_data"
    },
    {
     "data": {
      "text/plain": [
       " [1] 1 1 1 1 1 1 2 2 2 2 2 2 3 3 3 3 3 3 4 4 4 4 4 4\n",
       "Levels: 1 2 3 4\n"
      ]
     },
     "metadata": {},
     "output_type": "display_data"
    },
    {
     "data": {
      "text/plain": [
       "            Df  Sum Sq Mean Sq F value   Pr(>F)    \n",
       "size         1  146172  146172   4.470   0.0505 .  \n",
       "months       3 1379495  459832  14.062 9.49e-05 ***\n",
       "size:months  3  294009   98003   2.997   0.0617 .  \n",
       "Residuals   16  523222   32701                     \n",
       "---\n",
       "Signif. codes:  0 ‘***’ 0.001 ‘**’ 0.01 ‘*’ 0.05 ‘.’ 0.1 ‘ ’ 1\n"
      ]
     },
     "metadata": {},
     "output_type": "display_data"
    }
   ],
   "source": [
    "%R ants <- c(13, 242, 105, 182, 21, 7, 8, 59, 20, 24, 312, 68, 515, 488, 88, 460, 1223, 990, 18, 44, 21, 140, 40, 27)\n",
    "%R size <- as.factor(rep(1:2, each = 3, times = 4)) \n",
    "%R months <- as.factor(rep(1:4, each = 6))\n",
    "%R print(ants)\n",
    "%R print(size)\n",
    "%R print(months)\n",
    "\n",
    "%R mod1 <- lm(ants ~ size + months + size:months)\n",
    "%R print(summary(aov(mod1)))"
   ]
  },
  {
   "cell_type": "code",
   "execution_count": 162,
   "metadata": {
    "collapsed": true
   },
   "outputs": [],
   "source": [
    "def anova_perm(formula, shuffle_var, dataframe, n_shuffles):\n",
    "    '''\n",
    "    Uses Manly's method of unrestrained reshuffling across levels to calculate null distribution & hypothesis tests\n",
    "    % shuffles > obs\n",
    "    \n",
    "    Input:\n",
    "    formula - Patsy compliant formula for the model\n",
    "    dataframe - Pandas dataframe in long form with the data to be modelled.\n",
    "    n_shuffles - number of reshuffles to use\n",
    "    seed - Seed for reproducability\n",
    "    \n",
    "    Output:\n",
    "    obs_f - Observed statistic from the f test\n",
    "    perm_f - Permutated statistic from the f test\n",
    "    p - % shuffles > obs \n",
    "    '''\n",
    "\n",
    "    t = np.round(n_shuffles / 4, decimals = 0)\n",
    "    \n",
    "    #Get data info\n",
    "    r, c = dataframe.shape\n",
    "    \n",
    "    # Calculate observed linear mixed model\n",
    "    import warnings\n",
    "\n",
    "    with warnings.catch_warnings():\n",
    "        warnings.filterwarnings(\"ignore\")\n",
    "        obs_model = model = smf.ols(formula, data = dataframe).fit(reml = False)\n",
    "    obs_model_f = sm.stats.anova_lm(obs_model, typ = 2)\n",
    "    obs_f = obs_model_f[obs_model_f.index != 'Residual']['F']\n",
    "    \n",
    "    #Capture information from output wald results (minus intercept)\n",
    "    terms = obs_f.index.values\n",
    "    \n",
    "    #Preallocate memory\n",
    "    perm_f = {term: np.zeros(n_shuffles) for term in terms}    \n",
    "    \n",
    "    #Loop selecting random indicies, running ANOVA and collecting test statistic\n",
    "    for n in range(0, n_shuffles):\n",
    "        if n % t == 0:\n",
    "            print((n / n_shuffles) * 100)\n",
    "            \n",
    "        shuffle_vals = np.random.choice(dataframe[shuffle_var], size = len(dataframe), replace = False)\n",
    "        df_shuffle = dataframe.copy()\n",
    "        df_shuffle[shuffle_var] = shuffle_vals\n",
    "        \n",
    "        perm_model = smf.ols(formula, data = df_shuffle).fit(reml = False)\n",
    "        perm_model_f = sm.stats.anova_lm(perm_model, typ = 2)\n",
    "        perm_f_shuffle = perm_model_f[perm_model_f.index != 'Residual']['F']\n",
    "        \n",
    "        for term in terms:\n",
    "            perm_f[term][n] = perm_f_shuffle.loc[term]\n",
    "\n",
    "    \n",
    "    p = {term: sum(perm_f[term] >= obs_f[term]) / n_shuffles for term in terms}\n",
    "    print('Complete')\n",
    "    return(obs_f, perm_f, p)"
   ]
  },
  {
   "cell_type": "code",
   "execution_count": 184,
   "metadata": {},
   "outputs": [
    {
     "name": "stdout",
     "output_type": "stream",
     "text": [
      "0.0\n",
      "25.0\n",
      "50.0\n",
      "75.0\n"
     ]
    }
   ],
   "source": [
    "dataframe = df\n",
    "n_shuffles = 100\n",
    "formula = 'ants ~ size + months + size:months'\n",
    "shuffle_var = 'ants'\n",
    "\n",
    "obs, perm, p = anova_perm('ants ~ size + months + size:months', shuffle_var, df, 5000)"
   ]
  },
  {
   "cell_type": "code",
   "execution_count": 185,
   "metadata": {},
   "outputs": [
    {
     "data": {
      "text/plain": [
       "{'months': 0.0,\n",
       " 'size': 0.040000000000000001,\n",
       " 'size:months': 0.055199999999999999}"
      ]
     },
     "execution_count": 185,
     "metadata": {},
     "output_type": "execute_result"
    }
   ],
   "source": [
    "p"
   ]
  },
  {
   "cell_type": "markdown",
   "metadata": {},
   "source": [
    "## Verify in R w/ original code"
   ]
  },
  {
   "cell_type": "code",
   "execution_count": 187,
   "metadata": {},
   "outputs": [
    {
     "data": {
      "text/plain": [
       " The standard ANOVA for these data follows  \n"
      ]
     },
     "metadata": {},
     "output_type": "display_data"
    },
    {
     "data": {
      "text/plain": [
       "            Df  Sum Sq Mean Sq F value   Pr(>F)    \n",
       "size         1  146172  146172   4.470   0.0505 .  \n",
       "months       3 1379495  459832  14.062 9.49e-05 ***\n",
       "size:months  3  294009   98003   2.997   0.0617 .  \n",
       "Residuals   16  523222   32701                     \n",
       "---\n",
       "Signif. codes:  0 ‘***’ 0.001 ‘**’ 0.01 ‘*’ 0.05 ‘.’ 0.1 ‘ ’ 1\n"
      ]
     },
     "metadata": {},
     "output_type": "display_data"
    },
    {
     "data": {
      "text/plain": [
       "[1] \"Resampling as in Manly with unrestricted sampling of observations. \"\n"
      ]
     },
     "metadata": {},
     "output_type": "display_data"
    },
    {
     "data": {
      "text/plain": [
       "[1] 5000\n"
      ]
     },
     "metadata": {},
     "output_type": "display_data"
    },
    {
     "data": {
      "text/plain": [
       " The probability value for the interaction is  0.051  \n"
      ]
     },
     "metadata": {},
     "output_type": "display_data"
    },
    {
     "data": {
      "text/plain": [
       " The probability value for Size is  0.043  \n"
      ]
     },
     "metadata": {},
     "output_type": "display_data"
    },
    {
     "data": {
      "text/plain": [
       " The probability value for Months is  2e-04  \n"
      ]
     },
     "metadata": {},
     "output_type": "display_data"
    }
   ],
   "source": [
    "%R mod1 <- lm(ants ~ size + months + size:months)\n",
    "%R ANOVA <- summary(aov(mod1))\n",
    "%R cat( \" The standard ANOVA for these data follows \",\"\\n\")\n",
    "%R Fsize <-  ANOVA[[1]]$\"F value\"[1]   # Saving F values for future use\n",
    "%R Fmonths <-  ANOVA[[1]]$\"F value\"[2]\n",
    "%R Finteract <-  ANOVA[[1]]$\"F value\"[3]\n",
    "%R print(summary(aov(mod1)))\n",
    "\n",
    "%R print( \"Resampling as in Manly with unrestricted sampling of observations. \")\n",
    "%R # Now start resampling\n",
    "%R nreps <- 5000 \n",
    "%R FS <- numeric(nreps)    #Set up space to store F values as calculated.\n",
    "%R FM <- numeric(nreps)  \n",
    "%R FSM <- numeric(nreps)\n",
    "%R FS[1] <- Fsize          # The first F of our 5000 \n",
    "%R FM[1] <- Fmonths\n",
    "%R FSM[1] <- Finteract\n",
    "\n",
    "r('''\n",
    "for (i in 1:nreps) {\n",
    "  newants <- sample(ants, 24)\n",
    "  mod2 <- lm(newants ~ size + months + size:months)\n",
    "  b <- summary(aov(mod2))\n",
    "  FS[i] <- b[[1]]$\"F value\"[1]\n",
    "  FM[i] <- b[[1]]$\"F value\"[2]\n",
    "  FSM[i] <- b[[1]]$\"F value\"[3]\n",
    "  }''')\n",
    "%R print(i)\n",
    "%R probS <- length(FS[FS >= Fsize + .Machine$double.eps ^0.5])/nreps\n",
    "%R probM <- length(FM[FM >= Fmonths+ .Machine$double.eps ^0.5])/nreps       \n",
    "%R probSM  <-  length(FSM[FSM >= Finteract + .Machine$double.eps ^0.5])/nreps\n",
    "### The addition of \"+ .Machine$double.eps\" is an aid against two numbers that differ only by\n",
    "### floating point computer calculations at the extreme.\n",
    "\n",
    "%R cat(\" The probability value for the interaction is \",probSM, \"\\n\")\n",
    "%R cat(\" The probability value for Size is \", probS, \"\\n\")\n",
    "%R cat(\" The probability value for Months is \", probM, \"\\n\")"
   ]
  },
  {
   "cell_type": "code",
   "execution_count": 183,
   "metadata": {},
   "outputs": [
    {
     "data": {
      "text/plain": [
       "{'months': 0.00040000000000000002,\n",
       " 'size': 0.047,\n",
       " 'size:months': 0.053600000000000002}"
      ]
     },
     "execution_count": 183,
     "metadata": {},
     "output_type": "execute_result"
    }
   ],
   "source": [
    "p"
   ]
  },
  {
   "cell_type": "markdown",
   "metadata": {},
   "source": [
    "### Close enough for 5,000 perms."
   ]
  }
 ],
 "metadata": {
  "kernelspec": {
   "display_name": "Python [conda root]",
   "language": "python",
   "name": "conda-root-py"
  },
  "language_info": {
   "codemirror_mode": {
    "name": "ipython",
    "version": 2
   },
   "file_extension": ".py",
   "mimetype": "text/x-python",
   "name": "python",
   "nbconvert_exporter": "python",
   "pygments_lexer": "ipython2",
   "version": "2.7.11"
  }
 },
 "nbformat": 4,
 "nbformat_minor": 2
}
